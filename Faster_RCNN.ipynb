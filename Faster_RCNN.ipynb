{
 "cells": [
  {
   "cell_type": "markdown",
   "metadata": {
    "colab_type": "text",
    "id": "view-in-github"
   },
   "source": [
    "<a href=\"https://colab.research.google.com/github/loolzaaa/faster-rcnn-pytorch/blob/master/Faster_RCNN.ipynb\" target=\"_parent\"><img src=\"https://colab.research.google.com/assets/colab-badge.svg\" alt=\"Open In Colab\"/></a>"
   ]
  },
  {
   "cell_type": "code",
   "execution_count": null,
   "metadata": {
    "colab": {},
    "colab_type": "code",
    "id": "uPmN4bI0XbW0"
   },
   "outputs": [],
   "source": [
    "!pip uninstall torch torchvision -y\n",
    "!pip install colorama easydict pyyaml matplotlib numpy\n",
    "!pip install torch==1.4.0+cu100 torchvision==0.5.0+cu100 -f https://download.pytorch.org/whl/torch_stable.html"
   ]
  },
  {
   "cell_type": "code",
   "execution_count": null,
   "metadata": {
    "colab": {},
    "colab_type": "code",
    "id": "J1m4grxYXi9X"
   },
   "outputs": [],
   "source": [
    "!git clone https://github.com/loolzaaa/faster-rcnn-pytorch.git"
   ]
  },
  {
   "cell_type": "code",
   "execution_count": null,
   "metadata": {
    "colab": {},
    "colab_type": "code",
    "id": "P566Rc2_YspS"
   },
   "outputs": [],
   "source": [
    "%cd faster-rcnn-pytorch\n",
    "!mkdir data\n",
    "!mkdir data/pretrained_model\n",
    "%cd lib\n",
    "\n",
    "!python setup.py develop\n",
    "\n",
    "%cd .."
   ]
  },
  {
   "cell_type": "code",
   "execution_count": null,
   "metadata": {
    "colab": {},
    "colab_type": "code",
    "id": "msNKshP8al8Z"
   },
   "outputs": [],
   "source": [
    "import lib # Add some path to sys\n",
    "import torch # You need to import this first\n",
    "import _C\n",
    "\n",
    "print(_C)"
   ]
  },
  {
   "cell_type": "code",
   "execution_count": null,
   "metadata": {
    "colab": {},
    "colab_type": "code",
    "id": "xAjbWOjYiNiM"
   },
   "outputs": [],
   "source": [
    "!wget -O data/voc2007.tar http://host.robots.ox.ac.uk/pascal/VOC/voc2007/VOCtrainval_06-Nov-2007.tar\n",
    "!tar -xf data/voc2007.tar -C data/\n",
    "\n",
    "!wget -O data/pretrained_model/resnet50.pth \"https://drive.google.com/uc?export=download&id=1Wv-j1qtRsYWcuCVakuaN0kXV6ZcQ3yzK\""
   ]
  },
  {
   "cell_type": "code",
   "execution_count": 3,
   "metadata": {
    "colab": {},
    "colab_type": "code",
    "id": "LJnA6W2WXz8O"
   },
   "outputs": [
    {
     "name": "stdout",
     "output_type": "stream",
     "text": [
      "\u001b[47m\u001b[30mCalled with args:\u001b[0m\n",
      "\u001b[0mNamespace(add_params=[], batch_size=None, class_agnostic=False, cuda=True, dataset='voc_2007_trainval', display_interval=100, epoch=1, learning_rate=None, lr_decay_gamma=None, lr_decay_step=None, mGPU=False, mode='train', net='resnet101', optimizer='sgd', pretrain=False, resume=False, save_dir='models', session=1, total_epoch=20, vis_off=False)\u001b[0m\n",
      "\u001b[0m\u001b[46m\u001b[30mCurrent device: CUDA:0\u001b[0m\n",
      "\u001b[0m\u001b[47m\u001b[30mUsing config:\u001b[0m\n",
      "\u001b[0mGENERAL:\u001b[0m\n",
      "\u001b[0m{\u001b[0m'MAX_IMG_RATIO'\u001b[0m: \u001b[0m2.0\u001b[0m,\n",
      " \u001b[0m'MAX_IMG_SIZE'\u001b[0m: \u001b[0m1000\u001b[0m,\n",
      " \u001b[0m'MIN_IMG_RATIO'\u001b[0m: \u001b[0m0.5\u001b[0m,\n",
      " \u001b[0m'MIN_IMG_SIZE'\u001b[0m: \u001b[0m600\u001b[0m,\n",
      " \u001b[0m'POOLING_MODE'\u001b[0m: \u001b[0m'pool'\u001b[0m,\n",
      " \u001b[0m'POOLING_SIZE'\u001b[0m: \u001b[0m7\u001b[0m}\u001b[0m\n",
      "\u001b[0mTRAIN:\u001b[0m\n",
      "\u001b[0m{\u001b[0m'BATCH_SIZE'\u001b[0m: \u001b[0m1\u001b[0m,\n",
      " \u001b[0m'BG_THRESHOLD_HI'\u001b[0m: \u001b[0m0.5\u001b[0m,\n",
      " \u001b[0m'BG_THRESHOLD_LO'\u001b[0m: \u001b[0m0.0\u001b[0m,\n",
      " \u001b[0m'BIAS_DECAY'\u001b[0m: \u001b[0mFalse\u001b[0m,\n",
      " \u001b[0m'DOUBLE_BIAS'\u001b[0m: \u001b[0mTrue\u001b[0m,\n",
      " \u001b[0m'FG_PROPOSAL_FRACTION'\u001b[0m: \u001b[0m0.25\u001b[0m,\n",
      " \u001b[0m'FG_THRESHOLD'\u001b[0m: \u001b[0m0.5\u001b[0m,\n",
      " \u001b[0m'LEARNING_RATE'\u001b[0m: \u001b[0m0.001\u001b[0m,\n",
      " \u001b[0m'LR_DECAY_GAMMA'\u001b[0m: \u001b[0m0.1\u001b[0m,\n",
      " \u001b[0m'LR_DECAY_STEP'\u001b[0m: \u001b[0m5\u001b[0m,\n",
      " \u001b[0m'MOMENTUM'\u001b[0m: \u001b[0m0.9\u001b[0m,\n",
      " \u001b[0m'PROPOSAL_PER_IMG'\u001b[0m: \u001b[0m256\u001b[0m,\n",
      " \u001b[0m'RPN_CLOBBER_POSITIVES'\u001b[0m: \u001b[0mFalse\u001b[0m,\n",
      " \u001b[0m'RPN_FG_LABELS_FRACTION'\u001b[0m: \u001b[0m0.5\u001b[0m,\n",
      " \u001b[0m'RPN_MAX_LABELS'\u001b[0m: \u001b[0m256\u001b[0m,\n",
      " \u001b[0m'RPN_NEGATIVE_OVERLAP'\u001b[0m: \u001b[0m0.3\u001b[0m,\n",
      " \u001b[0m'RPN_NMS_THRESHOLD'\u001b[0m: \u001b[0m0.7\u001b[0m,\n",
      " \u001b[0m'RPN_POSITIVE_OVERLAP'\u001b[0m: \u001b[0m0.7\u001b[0m,\n",
      " \u001b[0m'RPN_POST_NMS_TOP'\u001b[0m: \u001b[0m2000\u001b[0m,\n",
      " \u001b[0m'RPN_PRE_NMS_TOP'\u001b[0m: \u001b[0m12000\u001b[0m,\n",
      " \u001b[0m'USE_FLIPPED'\u001b[0m: \u001b[0mTrue\u001b[0m,\n",
      " \u001b[0m'WEIGHT_DECAY'\u001b[0m: \u001b[0m0.0005\u001b[0m}\u001b[0m\n",
      "\u001b[0mRPN:\u001b[0m\n",
      "\u001b[0m{\u001b[0m'ANCHOR_SCALES'\u001b[0m: \u001b[0m[8, 16, 32]\u001b[0m,\n",
      " \u001b[0m'ANCHOR_RATIOS'\u001b[0m: \u001b[0m[0.5, 1, 2]\u001b[0m,\n",
      " \u001b[0m'FEATURE_STRIDE'\u001b[0m: \u001b[0m16\u001b[0m}\u001b[0m\n",
      "\u001b[0m\u001b[47m\u001b[30mLoading image dataset...\u001b[0m\n",
      "\u001b[0m\u001b[43m\u001b[30mWARNING! Cannot find \"devkit_path\" in additional parameters. Try to use default path (./data/VOCdevkit)...\u001b[0m\n",
      "\u001b[0mUsed image config: \u001b[0m\u001b[0m{'color_mode': 'BGR', 'range': 255, 'mean': [102.9801, 115.9465, 122.7717], 'std': [1.0, 1.0, 1.0]}\u001b[0m\n",
      "\u001b[0mData for voc_2007_trainval gt roidb loaded from /root/faster-rcnn-pytorch/data/cache/voc_2007_trainval_gt_roidb.pkl\u001b[0m\n",
      "\u001b[0mLoaded PascalVoc 2007 trainval dataset.\u001b[0m\n",
      "\u001b[0m\u001b[47m\u001b[30mAppending horizontally-flipped training examples...\u001b[0m\n",
      "\u001b[0mDone.\u001b[0m\n",
      "\u001b[0m\u001b[47m\u001b[30mPreparing image data...\u001b[0m\n",
      "\u001b[0mDone.\u001b[0m\n",
      "\u001b[0m\u001b[47m\u001b[30mFiltering image data (remove images without boxes)...\u001b[0m\n",
      "\u001b[0mBefore filtering, there are 9878 images...\u001b[0m\n",
      "\u001b[0mAfter filtering, there are 9878 images...\u001b[0m\n",
      "\u001b[0mDone.\u001b[0m\n",
      "\u001b[0m\u001b[46m\u001b[30mOutput directory: /root/faster-rcnn-pytorch/data/models/resnet101/voc_2007\u001b[0m\n",
      "\u001b[0mLoading pretrained weights from /root/faster-rcnn-pytorch/data/pretrained_model/resnet101.pth...\u001b[0m\n",
      "\u001b[0mDone.\u001b[0m\n",
      "\u001b[0m/pytorch/torch/csrc/utils/python_arg_parser.cpp:756: UserWarning: This overload of nonzero is deprecated:\n",
      "\tnonzero(Tensor input, *, Tensor out)\n",
      "Consider using one of the following signatures instead:\n",
      "\tnonzero(Tensor input, *, bool as_tuple)\n",
      "\u001b[47m\u001b[30m[session 1][epoch  1/20][iter    0/9878]\u001b[0m\n",
      "\u001b[0mloss: 2.5384, learning rate: 1.00e-03, time cost: 0.500782\u001b[0m\n",
      "\u001b[0mrpn_cls: 0.6681, rpn_box: 0.0158, rcnn_cls: 1.8359, rcnn_box 0.0186\u001b[0m\n",
      "/root/faster-rcnn-pytorch/lib/visualize/standart_plotter.py:40: MatplotlibDeprecationWarning: \n",
      "The set_window_title function was deprecated in Matplotlib 3.4 and will be removed two minor releases later. Use manager.set_window_title or GUI-specific methods instead.\n",
      "  self.fig.canvas.set_window_title('Faster R-CNN Network train process')\n",
      "Figure(1200x750)\u001b[0m\n",
      "\u001b[0m\u001b[0m\u001b[0m\u001b[47m\u001b[30m[session 1][epoch  1/20][iter  100/9878]\u001b[0m\n",
      "\u001b[0mloss: 0.4581, learning rate: 1.00e-03, time cost: 56.790637\u001b[0m\n",
      "\u001b[0mrpn_cls: 0.0473, rpn_box: 0.0109, rcnn_cls: 0.1668, rcnn_box 0.2080\u001b[0m\n",
      "\u001b[0m\u001b[47m\u001b[30m[session 1][epoch  1/20][iter  200/9878]\u001b[0m\n",
      "\u001b[0mloss: 0.3196, learning rate: 1.00e-03, time cost: 36.128784\u001b[0m\n",
      "\u001b[0mrpn_cls: 0.0423, rpn_box: 0.0388, rcnn_cls: 0.0756, rcnn_box 0.3008\u001b[0m\n",
      "\u001b[0m\u001b[47m\u001b[30m[session 1][epoch  1/20][iter  300/9878]\u001b[0m\n",
      "\u001b[0mloss: 0.3347, learning rate: 1.00e-03, time cost: 37.748295\u001b[0m\n",
      "\u001b[0mrpn_cls: 0.0093, rpn_box: 0.0104, rcnn_cls: 0.0994, rcnn_box 0.1269\u001b[0m\n",
      "^C\n",
      "\u001b[0m\u001b[0mTraceback (most recent call last):\n",
      "\u001b[0m  File \"run.py\", line 135, in <module>\n",
      "\u001b[0m    \u001b[0mtrain(dataset=args.dataset, net=args.net, batch_size=args.batch_size,\u001b[0m\n",
      "\u001b[0m  File \"/root/faster-rcnn-pytorch/script/train.py\", line 131, in train\n",
      "\u001b[0m    \u001b[0mRCNN_loss_cls, RCNN_loss_bbox = faster_rcnn(image_data, image_info, gt_boxes)\u001b[0m\n",
      "\u001b[0m  File \"/usr/local/lib/python3.8/dist-packages/torch/nn/modules/module.py\", line 550, in __call__\n",
      "\u001b[0m    \u001b[0mresult = self.forward(*input, **kwargs)\u001b[0m\n",
      "\u001b[0m  File \"/root/faster-rcnn-pytorch/lib/model/faster_rcnn.py\", line 41, in forward\n",
      "\u001b[0m    \u001b[0mroi_data = self.RCNN_proposal_target(rois, gt_boxes)\u001b[0m\n",
      "\u001b[0m  File \"/usr/local/lib/python3.8/dist-packages/torch/nn/modules/module.py\", line 550, in __call__\n",
      "\u001b[0m    \u001b[0mresult = self.forward(*input, **kwargs)\u001b[0m\n",
      "\u001b[0m  File \"/root/faster-rcnn-pytorch/lib/model/rpn/proposal_target_layer.py\", line 24, in forward\n",
      "\u001b[0m    \u001b[0mself._sample_rois_pytorch(all_rois, gt_boxes, fg_rois_per_image, rois_per_image)\u001b[0m\n",
      "\u001b[0m  File \"/root/faster-rcnn-pytorch/lib/model/rpn/proposal_target_layer.py\", line 43, in _sample_rois_pytorch\n",
      "\u001b[0m    \u001b[0mlabels = gt_boxes[:,:,4].contiguous().view(-1)[(offset.view(-1),)].view(batch_size, -1)\u001b[0m\n",
      "\u001b[0mKeyboardInterrupt\u001b[0m\u001b[0m\n",
      "\u001b[0m\u001b[0m"
     ]
    }
   ],
   "source": [
    "%matplotlib inline\n",
    "# Before run, check script/train.py file.\n",
    "# You need to change pprint.pp -> pprint.pprint,\n",
    "# because pp() function available in python 3.8+\n",
    "!python3.8 run.py train -n resnet101 --cuda"
   ]
  },
  {
   "cell_type": "code",
   "execution_count": 1,
   "metadata": {
    "colab": {},
    "colab_type": "code",
    "id": "2vbgW3-jsMpS"
   },
   "outputs": [
    {
     "name": "stdout",
     "output_type": "stream",
     "text": [
      "/root/faster-rcnn-pytorch\r\n"
     ]
    }
   ],
   "source": [
    "!pwd"
   ]
  },
  {
   "cell_type": "code",
   "execution_count": 16,
   "metadata": {},
   "outputs": [],
   "source": [
    "import numpy as np\n",
    "a = np.array([[ -34,63,280, 257],\n",
    " [224,  72, 632, -370]])"
   ]
  },
  {
   "cell_type": "code",
   "execution_count": 17,
   "metadata": {},
   "outputs": [
    {
     "data": {
      "text/plain": [
       "array([[ -34,   63,  280,  257],\n",
       "       [ 224,   72,  632, -370]])"
      ]
     },
     "execution_count": 17,
     "metadata": {},
     "output_type": "execute_result"
    }
   ],
   "source": [
    "a"
   ]
  },
  {
   "cell_type": "code",
   "execution_count": 21,
   "metadata": {},
   "outputs": [
    {
     "data": {
      "text/plain": [
       "array([[-34,  63, 280, 257],\n",
       "       [-34,  63, 280, 257]])"
      ]
     },
     "execution_count": 21,
     "metadata": {},
     "output_type": "execute_result"
    }
   ],
   "source": [
    "np.array([a[0,:],a[0,:]])"
   ]
  },
  {
   "cell_type": "code",
   "execution_count": 36,
   "metadata": {},
   "outputs": [
    {
     "name": "stdout",
     "output_type": "stream",
     "text": [
      "[[ -33   63  280  257]\n",
      " [ 225   72  632 -370]]\n"
     ]
    },
    {
     "data": {
      "text/plain": [
       "array([[ -32,   63,  280,  257],\n",
       "       [ 226,   72,  632, -370]])"
      ]
     },
     "execution_count": 36,
     "metadata": {},
     "output_type": "execute_result"
    }
   ],
   "source": [
    "b = np.array([])\n",
    "print(a)\n",
    "for i in range(a.shape[0]):\n",
    "    row = a[i,:]\n",
    "#     print(row)\n",
    "    row[0] = row[0]+1\n",
    "#     print(row)\n",
    "    a[i,:] = row\n",
    "a"
   ]
  },
  {
   "cell_type": "code",
   "execution_count": 40,
   "metadata": {},
   "outputs": [
    {
     "data": {
      "text/plain": [
       "array([ -0.3  , -45.234])"
      ]
     },
     "execution_count": 40,
     "metadata": {},
     "output_type": "execute_result"
    }
   ],
   "source": [
    "t = np.array([-0.3, -45.234])\n",
    "t"
   ]
  },
  {
   "cell_type": "code",
   "execution_count": 41,
   "metadata": {},
   "outputs": [
    {
     "ename": "IndexError",
     "evalue": "tuple index out of range",
     "output_type": "error",
     "traceback": [
      "\u001b[0;31m---------------------------------------------------------------------------\u001b[0m",
      "\u001b[0;31mIndexError\u001b[0m                                Traceback (most recent call last)",
      "\u001b[0;32m<ipython-input-41-c00736b0e134>\u001b[0m in \u001b[0;36m<module>\u001b[0;34m\u001b[0m\n\u001b[0;32m----> 1\u001b[0;31m \u001b[0;32mfor\u001b[0m \u001b[0mi\u001b[0m \u001b[0;32min\u001b[0m \u001b[0mrange\u001b[0m\u001b[0;34m(\u001b[0m\u001b[0mt\u001b[0m\u001b[0;34m.\u001b[0m\u001b[0mshape\u001b[0m\u001b[0;34m[\u001b[0m\u001b[0;36m1\u001b[0m\u001b[0;34m]\u001b[0m\u001b[0;34m)\u001b[0m\u001b[0;34m:\u001b[0m\u001b[0;34m\u001b[0m\u001b[0;34m\u001b[0m\u001b[0m\n\u001b[0m\u001b[1;32m      2\u001b[0m     \u001b[0mt\u001b[0m\u001b[0;34m[\u001b[0m\u001b[0mi\u001b[0m\u001b[0;34m]\u001b[0m \u001b[0;34m=\u001b[0m \u001b[0mint\u001b[0m\u001b[0;34m(\u001b[0m\u001b[0mt\u001b[0m\u001b[0;34m[\u001b[0m\u001b[0mi\u001b[0m\u001b[0;34m]\u001b[0m\u001b[0;34m)\u001b[0m\u001b[0;34m\u001b[0m\u001b[0;34m\u001b[0m\u001b[0m\n",
      "\u001b[0;31mIndexError\u001b[0m: tuple index out of range"
     ]
    }
   ],
   "source": [
    "for i in range(t.shape[1]):\n",
    "    t[i] = int(t[i])"
   ]
  },
  {
   "cell_type": "code",
   "execution_count": 42,
   "metadata": {},
   "outputs": [
    {
     "data": {
      "text/plain": [
       "(2,)"
      ]
     },
     "execution_count": 42,
     "metadata": {},
     "output_type": "execute_result"
    }
   ],
   "source": [
    "t.shape"
   ]
  },
  {
   "cell_type": "code",
   "execution_count": 43,
   "metadata": {},
   "outputs": [
    {
     "data": {
      "text/plain": [
       "-0.3"
      ]
     },
     "execution_count": 43,
     "metadata": {},
     "output_type": "execute_result"
    }
   ],
   "source": [
    "t[0]"
   ]
  },
  {
   "cell_type": "code",
   "execution_count": 47,
   "metadata": {},
   "outputs": [],
   "source": [
    "t = t.reshape((1,2))"
   ]
  },
  {
   "cell_type": "code",
   "execution_count": 48,
   "metadata": {},
   "outputs": [
    {
     "data": {
      "text/plain": [
       "(1, 2)"
      ]
     },
     "execution_count": 48,
     "metadata": {},
     "output_type": "execute_result"
    }
   ],
   "source": [
    "t.shape"
   ]
  },
  {
   "cell_type": "code",
   "execution_count": 49,
   "metadata": {},
   "outputs": [
    {
     "data": {
      "text/plain": [
       "array([ -0.3  , -45.234])"
      ]
     },
     "execution_count": 49,
     "metadata": {},
     "output_type": "execute_result"
    }
   ],
   "source": [
    "t[0]"
   ]
  },
  {
   "cell_type": "code",
   "execution_count": 50,
   "metadata": {},
   "outputs": [
    {
     "data": {
      "text/plain": [
       "-0.3"
      ]
     },
     "execution_count": 50,
     "metadata": {},
     "output_type": "execute_result"
    }
   ],
   "source": [
    "t[0][0]"
   ]
  },
  {
   "cell_type": "code",
   "execution_count": null,
   "metadata": {},
   "outputs": [],
   "source": []
  }
 ],
 "metadata": {
  "accelerator": "GPU",
  "colab": {
   "authorship_tag": "ABX9TyPXgpgM5DQsWbhViXHD1R9W",
   "collapsed_sections": [],
   "include_colab_link": true,
   "name": "Faster_RCNN.ipynb",
   "provenance": [],
   "toc_visible": true
  },
  "kernelspec": {
   "display_name": "Python 3",
   "language": "python",
   "name": "python3"
  },
  "language_info": {
   "codemirror_mode": {
    "name": "ipython",
    "version": 3
   },
   "file_extension": ".py",
   "mimetype": "text/x-python",
   "name": "python",
   "nbconvert_exporter": "python",
   "pygments_lexer": "ipython3",
   "version": "3.8.0"
  }
 },
 "nbformat": 4,
 "nbformat_minor": 1
}
