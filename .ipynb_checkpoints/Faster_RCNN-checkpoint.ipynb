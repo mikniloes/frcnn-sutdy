{
 "cells": [
  {
   "cell_type": "markdown",
   "metadata": {
    "colab_type": "text",
    "id": "view-in-github"
   },
   "source": [
    "<a href=\"https://colab.research.google.com/github/loolzaaa/faster-rcnn-pytorch/blob/master/Faster_RCNN.ipynb\" target=\"_parent\"><img src=\"https://colab.research.google.com/assets/colab-badge.svg\" alt=\"Open In Colab\"/></a>"
   ]
  },
  {
   "cell_type": "code",
   "execution_count": null,
   "metadata": {
    "colab": {},
    "colab_type": "code",
    "id": "uPmN4bI0XbW0"
   },
   "outputs": [],
   "source": [
    "!pip uninstall torch torchvision -y\n",
    "!pip install colorama easydict pyyaml matplotlib numpy\n",
    "!pip install torch==1.4.0+cu100 torchvision==0.5.0+cu100 -f https://download.pytorch.org/whl/torch_stable.html"
   ]
  },
  {
   "cell_type": "code",
   "execution_count": null,
   "metadata": {
    "colab": {},
    "colab_type": "code",
    "id": "J1m4grxYXi9X"
   },
   "outputs": [],
   "source": [
    "!git clone https://github.com/loolzaaa/faster-rcnn-pytorch.git"
   ]
  },
  {
   "cell_type": "code",
   "execution_count": null,
   "metadata": {
    "colab": {},
    "colab_type": "code",
    "id": "P566Rc2_YspS"
   },
   "outputs": [],
   "source": [
    "%cd faster-rcnn-pytorch\n",
    "!mkdir data\n",
    "!mkdir data/pretrained_model\n",
    "%cd lib\n",
    "\n",
    "!python setup.py develop\n",
    "\n",
    "%cd .."
   ]
  },
  {
   "cell_type": "code",
   "execution_count": null,
   "metadata": {
    "colab": {},
    "colab_type": "code",
    "id": "msNKshP8al8Z"
   },
   "outputs": [],
   "source": [
    "import lib # Add some path to sys\n",
    "import torch # You need to import this first\n",
    "import _C\n",
    "\n",
    "print(_C)"
   ]
  },
  {
   "cell_type": "code",
   "execution_count": null,
   "metadata": {
    "colab": {},
    "colab_type": "code",
    "id": "xAjbWOjYiNiM"
   },
   "outputs": [],
   "source": [
    "!wget -O data/voc2007.tar http://host.robots.ox.ac.uk/pascal/VOC/voc2007/VOCtrainval_06-Nov-2007.tar\n",
    "!tar -xf data/voc2007.tar -C data/\n",
    "\n",
    "!wget -O data/pretrained_model/resnet50.pth \"https://drive.google.com/uc?export=download&id=1Wv-j1qtRsYWcuCVakuaN0kXV6ZcQ3yzK\""
   ]
  },
  {
   "cell_type": "code",
   "execution_count": null,
   "metadata": {
    "colab": {},
    "colab_type": "code",
    "id": "LJnA6W2WXz8O"
   },
   "outputs": [
    {
     "name": "stdout",
     "output_type": "stream",
     "text": [
      "\u001b[47m\u001b[30mCalled with args:\u001b[0m\n",
      "\u001b[0mNamespace(add_params=[], batch_size=None, class_agnostic=False, cuda=True, dataset='voc_2007_trainval', display_interval=100, epoch=1, learning_rate=None, lr_decay_gamma=None, lr_decay_step=None, mGPU=False, mode='train', net='resnet101', optimizer='sgd', pretrain=False, resume=False, save_dir='models', session=1, total_epoch=20, vis_off=False)\u001b[0m\n",
      "\u001b[0m\u001b[46m\u001b[30mCurrent device: CUDA:0\u001b[0m\n",
      "\u001b[0m\u001b[47m\u001b[30mUsing config:\u001b[0m\n",
      "\u001b[0mGENERAL:\u001b[0m\n",
      "\u001b[0m{\u001b[0m'MAX_IMG_RATIO'\u001b[0m: \u001b[0m2.0\u001b[0m,\n",
      " \u001b[0m'MAX_IMG_SIZE'\u001b[0m: \u001b[0m1000\u001b[0m,\n",
      " \u001b[0m'MIN_IMG_RATIO'\u001b[0m: \u001b[0m0.5\u001b[0m,\n",
      " \u001b[0m'MIN_IMG_SIZE'\u001b[0m: \u001b[0m600\u001b[0m,\n",
      " \u001b[0m'POOLING_MODE'\u001b[0m: \u001b[0m'pool'\u001b[0m,\n",
      " \u001b[0m'POOLING_SIZE'\u001b[0m: \u001b[0m7\u001b[0m}\u001b[0m\n",
      "\u001b[0mTRAIN:\u001b[0m\n",
      "\u001b[0m{\u001b[0m'BATCH_SIZE'\u001b[0m: \u001b[0m1\u001b[0m,\n",
      " \u001b[0m'BG_THRESHOLD_HI'\u001b[0m: \u001b[0m0.5\u001b[0m,\n",
      " \u001b[0m'BG_THRESHOLD_LO'\u001b[0m: \u001b[0m0.0\u001b[0m,\n",
      " \u001b[0m'BIAS_DECAY'\u001b[0m: \u001b[0mFalse\u001b[0m,\n",
      " \u001b[0m'DOUBLE_BIAS'\u001b[0m: \u001b[0mTrue\u001b[0m,\n",
      " \u001b[0m'FG_PROPOSAL_FRACTION'\u001b[0m: \u001b[0m0.25\u001b[0m,\n",
      " \u001b[0m'FG_THRESHOLD'\u001b[0m: \u001b[0m0.5\u001b[0m,\n",
      " \u001b[0m'LEARNING_RATE'\u001b[0m: \u001b[0m0.001\u001b[0m,\n",
      " \u001b[0m'LR_DECAY_GAMMA'\u001b[0m: \u001b[0m0.1\u001b[0m,\n",
      " \u001b[0m'LR_DECAY_STEP'\u001b[0m: \u001b[0m5\u001b[0m,\n",
      " \u001b[0m'MOMENTUM'\u001b[0m: \u001b[0m0.9\u001b[0m,\n",
      " \u001b[0m'PROPOSAL_PER_IMG'\u001b[0m: \u001b[0m256\u001b[0m,\n",
      " \u001b[0m'RPN_CLOBBER_POSITIVES'\u001b[0m: \u001b[0mFalse\u001b[0m,\n",
      " \u001b[0m'RPN_FG_LABELS_FRACTION'\u001b[0m: \u001b[0m0.5\u001b[0m,\n",
      " \u001b[0m'RPN_MAX_LABELS'\u001b[0m: \u001b[0m256\u001b[0m,\n",
      " \u001b[0m'RPN_NEGATIVE_OVERLAP'\u001b[0m: \u001b[0m0.3\u001b[0m,\n",
      " \u001b[0m'RPN_NMS_THRESHOLD'\u001b[0m: \u001b[0m0.7\u001b[0m,\n",
      " \u001b[0m'RPN_POSITIVE_OVERLAP'\u001b[0m: \u001b[0m0.7\u001b[0m,\n",
      " \u001b[0m'RPN_POST_NMS_TOP'\u001b[0m: \u001b[0m2000\u001b[0m,\n",
      " \u001b[0m'RPN_PRE_NMS_TOP'\u001b[0m: \u001b[0m12000\u001b[0m,\n",
      " \u001b[0m'USE_FLIPPED'\u001b[0m: \u001b[0mTrue\u001b[0m,\n",
      " \u001b[0m'WEIGHT_DECAY'\u001b[0m: \u001b[0m0.0005\u001b[0m}\u001b[0m\n",
      "\u001b[0mRPN:\u001b[0m\n",
      "\u001b[0m{\u001b[0m'ANCHOR_SCALES'\u001b[0m: \u001b[0m[8, 16, 32]\u001b[0m,\n",
      " \u001b[0m'ANCHOR_RATIOS'\u001b[0m: \u001b[0m[0.5, 1, 2]\u001b[0m,\n",
      " \u001b[0m'FEATURE_STRIDE'\u001b[0m: \u001b[0m16\u001b[0m}\u001b[0m\n",
      "\u001b[0m\u001b[47m\u001b[30mLoading image dataset...\u001b[0m\n",
      "\u001b[0m\u001b[43m\u001b[30mWARNING! Cannot find \"devkit_path\" in additional parameters. Try to use default path (./data/VOCdevkit)...\u001b[0m\n",
      "\u001b[0mUsed image config: \u001b[0m\u001b[0m{'color_mode': 'BGR', 'range': 255, 'mean': [102.9801, 115.9465, 122.7717], 'std': [1.0, 1.0, 1.0]}\u001b[0m\n",
      "\u001b[0mData for voc_2007_trainval gt roidb loaded from /root/faster-rcnn-pytorch/data/cache/voc_2007_trainval_gt_roidb.pkl\u001b[0m\n",
      "\u001b[0mLoaded PascalVoc 2007 trainval dataset.\u001b[0m\n",
      "\u001b[0m\u001b[47m\u001b[30mAppending horizontally-flipped training examples...\u001b[0m\n",
      "\u001b[0mDone.\u001b[0m\n",
      "\u001b[0m\u001b[47m\u001b[30mPreparing image data...\u001b[0m\n",
      "\u001b[0mDone.\u001b[0m\n",
      "\u001b[0m\u001b[47m\u001b[30mFiltering image data (remove images without boxes)...\u001b[0m\n",
      "\u001b[0mBefore filtering, there are 9878 images...\u001b[0m\n",
      "\u001b[0mAfter filtering, there are 9878 images...\u001b[0m\n",
      "\u001b[0mDone.\u001b[0m\n",
      "\u001b[0m\u001b[46m\u001b[30mOutput directory: /root/faster-rcnn-pytorch/data/models/resnet101/voc_2007\u001b[0m\n",
      "\u001b[0mLoading pretrained weights from /root/faster-rcnn-pytorch/data/pretrained_model/resnet101.pth...\u001b[0m\n",
      "\u001b[0mDone.\u001b[0m\n",
      "\u001b[0m/pytorch/torch/csrc/utils/python_arg_parser.cpp:756: UserWarning: This overload of nonzero is deprecated:\n",
      "\tnonzero(Tensor input, *, Tensor out)\n",
      "Consider using one of the following signatures instead:\n",
      "\tnonzero(Tensor input, *, bool as_tuple)\n",
      "\u001b[47m\u001b[30m[session 1][epoch  1/20][iter    0/9878]\u001b[0m\n",
      "\u001b[0mloss: 1.7126, learning rate: 1.00e-03, time cost: 0.356324\u001b[0m\n",
      "\u001b[0mrpn_cls: 0.6741, rpn_box: 0.0686, rcnn_cls: 0.8876, rcnn_box 0.0823\u001b[0m\n",
      "/root/faster-rcnn-pytorch/lib/visualize/standart_plotter.py:40: MatplotlibDeprecationWarning: \n",
      "The set_window_title function was deprecated in Matplotlib 3.4 and will be removed two minor releases later. Use manager.set_window_title or GUI-specific methods instead.\n",
      "  self.fig.canvas.set_window_title('Faster R-CNN Network train process')\n",
      "Figure(1200x750)\u001b[0m\n",
      "\u001b[0m\u001b[0m\u001b[0m\u001b[47m\u001b[30m[session 1][epoch  1/20][iter  100/9878]\u001b[0m\n",
      "\u001b[0mloss: 0.4220, learning rate: 1.00e-03, time cost: 67.793602\u001b[0m\n",
      "\u001b[0mrpn_cls: 0.0454, rpn_box: 0.0194, rcnn_cls: 0.0651, rcnn_box 0.1336\u001b[0m\n"
     ]
    }
   ],
   "source": [
    "# Before run, check script/train.py file.\n",
    "# You need to change pprint.pp -> pprint.pprint,\n",
    "# because pp() function available in python 3.8+\n",
    "!python3.8 run.py train -n resnet101 --cuda"
   ]
  },
  {
   "cell_type": "code",
   "execution_count": 1,
   "metadata": {
    "colab": {},
    "colab_type": "code",
    "id": "2vbgW3-jsMpS"
   },
   "outputs": [
    {
     "name": "stdout",
     "output_type": "stream",
     "text": [
      "/root/faster-rcnn-pytorch\r\n"
     ]
    }
   ],
   "source": [
    "!pwd"
   ]
  },
  {
   "cell_type": "code",
   "execution_count": null,
   "metadata": {},
   "outputs": [],
   "source": []
  }
 ],
 "metadata": {
  "accelerator": "GPU",
  "colab": {
   "authorship_tag": "ABX9TyPXgpgM5DQsWbhViXHD1R9W",
   "collapsed_sections": [],
   "include_colab_link": true,
   "name": "Faster_RCNN.ipynb",
   "provenance": [],
   "toc_visible": true
  },
  "kernelspec": {
   "display_name": "Python 3",
   "language": "python",
   "name": "python3"
  },
  "language_info": {
   "codemirror_mode": {
    "name": "ipython",
    "version": 3
   },
   "file_extension": ".py",
   "mimetype": "text/x-python",
   "name": "python",
   "nbconvert_exporter": "python",
   "pygments_lexer": "ipython3",
   "version": "3.8.0"
  }
 },
 "nbformat": 4,
 "nbformat_minor": 1
}
